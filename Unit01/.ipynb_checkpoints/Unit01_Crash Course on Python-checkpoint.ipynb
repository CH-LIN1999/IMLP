{
 "cells": [
  {
   "cell_type": "markdown",
   "metadata": {},
   "source": [
    "# Python programming \n",
    "## Crash Course on Python Coding Practice\n",
    "\n",
    "No matter the level of mastery you hope to get to in Python,<br> \n",
    "you'll need these fundamentals in place before you jump into any project.<br><br>\n",
    "\n",
    "You need to know how to:\n",
    "\n",
    "- declare variables\n",
    "- collect user input\n",
    "- store information\n",
    "- repeat an action through loops\n",
    "- write functions to repeat blocks of code\n"
   ]
  },
  {
   "cell_type": "markdown",
   "metadata": {},
   "source": [
    "### 01 - 奇偶數辨別（Odd or even）\n",
    "#### 當使用者輸入一個的數字，它能夠辨別奇偶，並輸出檢驗結果給使用者。\n",
    "\n",
    "> 題目：輸入一數字判斷奇數或偶數<br>\n",
    "輸入(Input): 一個數字 <br>\n",
    "輸出(Output):奇數或偶數\n",
    "\n",
    "* 進階: 可以限制輸入一個介於一定範圍（例如 1 到 1000）的數字"
   ]
  },
  {
   "cell_type": "code",
   "execution_count": 91,
   "metadata": {},
   "outputs": [
    {
     "name": "stdin",
     "output_type": "stream",
     "text": [
      "輸入數字: 1001\n"
     ]
    },
    {
     "name": "stdout",
     "output_type": "stream",
     "text": [
      "odd\n",
      "範圍之外\n"
     ]
    }
   ],
   "source": [
    "x = int(input('輸入數字:'))\n",
    "\n",
    "if x % 2 == 0:\n",
    "    print('even')\n",
    "else:\n",
    "    print('odd')\n",
    "\n",
    "if x>=1 and x <=1000:\n",
    "    print('範圍之內')\n",
    "else:\n",
    "    print('範圍之外')"
   ]
  },
  {
   "cell_type": "markdown",
   "metadata": {},
   "source": [
    "### 02 - 填字遊戲（Mad libs game）\n",
    "#### 使用者輸入任何字，它可以是名詞、形容詞、動詞、代名詞等。程式得到文字後，可自行排列，組成成一個模板故事。\n",
    "\n",
    "> 題目：輸入一連串對應要求的文字<br>\n",
    "輸入(Input): 一連串依據說明輸入對應文字 <br>\n",
    "輸出(Output): 模板故事\n",
    "\n",
    "* 進階: 可以讓程式重複執行"
   ]
  },
  {
   "cell_type": "code",
   "execution_count": 96,
   "metadata": {},
   "outputs": [
    {
     "name": "stdin",
     "output_type": "stream",
     "text": [
      "有幾個人要喝: 3\n",
      "你的姓名: 聒聒\n",
      "想喝的飲料: 紅茶\n",
      "加什麼料: 無\n",
      "甜度: 無糖\n",
      "冰塊: 微冰\n",
      "飲料價格: 30\n"
     ]
    },
    {
     "name": "stdout",
     "output_type": "stream",
     "text": [
      "-----------------\n",
      "姓名: 聒聒\n",
      "品項: 紅茶\n",
      "加什麼料: 無\n",
      "甜度: 無糖\n",
      "冰塊: 微冰\n",
      "消費金額: 30\n",
      "-----------------\n"
     ]
    },
    {
     "name": "stdin",
     "output_type": "stream",
     "text": [
      "你的姓名: 阿洛\n",
      "想喝的飲料: 綠茶\n",
      "加什麼料: 粉粿\n",
      "甜度: 全糖\n",
      "冰塊: 少冰\n",
      "飲料價格: 30\n"
     ]
    },
    {
     "name": "stdout",
     "output_type": "stream",
     "text": [
      "-----------------\n",
      "姓名: 阿洛\n",
      "品項: 綠茶\n",
      "加什麼料: 粉粿\n",
      "甜度: 全糖\n",
      "冰塊: 少冰\n",
      "消費金額: 30\n",
      "-----------------\n"
     ]
    },
    {
     "name": "stdin",
     "output_type": "stream",
     "text": [
      "你的姓名: 織織\n",
      "想喝的飲料: 啤酒\n",
      "加什麼料: 無\n",
      "甜度: 無糖\n",
      "冰塊: 少冰\n",
      "飲料價格: 50\n"
     ]
    },
    {
     "name": "stdout",
     "output_type": "stream",
     "text": [
      "-----------------\n",
      "姓名: 織織\n",
      "品項: 啤酒\n",
      "加什麼料: 無\n",
      "甜度: 無糖\n",
      "冰塊: 少冰\n",
      "消費金額: 50\n",
      "-----------------\n"
     ]
    }
   ],
   "source": [
    "x = int(input('有幾個人要喝:'))\n",
    "for i in range(x):\n",
    "    name = input('你的姓名:')\n",
    "    drink = input('想喝的飲料:')\n",
    "    toppings = input('加什麼料:')\n",
    "    sugar_level = input('甜度:')\n",
    "    ice_level = input('冰塊:')\n",
    "    cost = input('飲料價格:')\n",
    "    \n",
    "    print('-----------------')\n",
    "    print('姓名:',name)\n",
    "    print('品項:',drink)\n",
    "    print('加什麼料:',toppings)\n",
    "    print('甜度:',sugar_level)\n",
    "    print('冰塊:',ice_level)\n",
    "    print('消費金額:',cost)\n",
    "    print('-----------------')"
   ]
  },
  {
   "cell_type": "markdown",
   "metadata": {},
   "source": [
    "### 03 -  猜數字（Guess the number）\n",
    "#### 請使用者猜一個介於範圍（例如 1 到 100）之間的數字，\n",
    "#### 若使用者猜錯，就詢問他們想繼續玩還是退出；若使用者猜對，就顯示祝賀訊息，\n",
    "#### 並統計使用者的嘗試次數。如果使用者輸入的數字超出設定範圍，就顯示錯誤提示。\n",
    "\n",
    "![](data\\guess.png)\n"
   ]
  },
  {
   "cell_type": "code",
   "execution_count": 114,
   "metadata": {},
   "outputs": [
    {
     "name": "stdout",
     "output_type": "stream",
     "text": [
      "請輸入: 0 < ? < 100 的數字:"
     ]
    },
    {
     "name": "stdin",
     "output_type": "stream",
     "text": [
      " 20\n"
     ]
    },
    {
     "name": "stdout",
     "output_type": "stream",
     "text": [
      "猜太小囉，你已經猜了1次\n",
      "請輸入: 20 < ? < 100 的數字:"
     ]
    },
    {
     "name": "stdin",
     "output_type": "stream",
     "text": [
      " 60\n"
     ]
    },
    {
     "name": "stdout",
     "output_type": "stream",
     "text": [
      "猜太大囉，你已經猜了2次\n",
      "請輸入: 20 < ? < 60 的數字:"
     ]
    },
    {
     "name": "stdin",
     "output_type": "stream",
     "text": [
      " 50\n"
     ]
    },
    {
     "name": "stdout",
     "output_type": "stream",
     "text": [
      "猜太大囉，你已經猜了3次\n",
      "請輸入: 20 < ? < 50 的數字:"
     ]
    },
    {
     "name": "stdin",
     "output_type": "stream",
     "text": [
      " 30\n"
     ]
    },
    {
     "name": "stdout",
     "output_type": "stream",
     "text": [
      "猜太小囉，你已經猜了4次\n",
      "請輸入: 30 < ? < 50 的數字:"
     ]
    },
    {
     "name": "stdin",
     "output_type": "stream",
     "text": [
      " 40\n"
     ]
    },
    {
     "name": "stdout",
     "output_type": "stream",
     "text": [
      "猜太大囉，你已經猜了5次\n",
      "請輸入: 30 < ? < 40 的數字:"
     ]
    },
    {
     "name": "stdin",
     "output_type": "stream",
     "text": [
      " 36\n"
     ]
    },
    {
     "name": "stdout",
     "output_type": "stream",
     "text": [
      "嘿嘿賓果答對了，你總共猜了6次\n"
     ]
    }
   ],
   "source": [
    "import random\n",
    "\n",
    "Max = 100\n",
    "Min = 0\n",
    "ans = random.randint(1,99)\n",
    "count = 0\n",
    "\n",
    "\n",
    "while True:\n",
    "    print('請輸入:',Min,'< ? <',Max,'的數字:', end='')\n",
    "    guess = int(input())\n",
    "    if guess < Max and guess > Min:\n",
    "        count += 1\n",
    "        if guess == ans:\n",
    "            print('嘿嘿賓果答對了，你總共猜了%d次'%(count))\n",
    "            break\n",
    "            \n",
    "        elif guess > ans:\n",
    "            Max = guess\n",
    "            print('猜太大囉，你已經猜了%d次'%(count))\n",
    "                \n",
    "        else:\n",
    "            Min = guess\n",
    "            print('猜太小囉，你已經猜了%d次'%(count))\n",
    "    else:\n",
    "        print('超出範圍')"
   ]
  },
  {
   "cell_type": "markdown",
   "metadata": {},
   "source": [
    "### 04 - 計算字數（Word count）\n",
    "#### 使用者輸入一段文字或讀取一檔案，程式統計字數。\n",
    "\n",
    "> 輸入(Input):我要成為寫程式的專家 <br>\n",
    "輸出(Output):你用了 10 個文字述說內心的想法\n",
    "\n",
    "#### 在特定的文章字串中搜尋輸入的特定字，請使用者輸入欲搜尋的文字，印出總共有幾個。<br>\n",
    ">輸入(Input):天<br>\n",
    "輸出(Output): 9\n",
    "\n",
    "* 進階:計算文章中去除標點符號後的字數，找出文章中出現最多的字與次數"
   ]
  },
  {
   "cell_type": "code",
   "execution_count": 132,
   "metadata": {},
   "outputs": [
    {
     "name": "stdin",
     "output_type": "stream",
     "text": [
      " 晚餐吃蛋餅\n"
     ]
    },
    {
     "name": "stdout",
     "output_type": "stream",
     "text": [
      "你用了 5 個文字述說內心的想法\n",
      "------------------------------------------\n"
     ]
    },
    {
     "name": "stdin",
     "output_type": "stream",
     "text": [
      " 早\n"
     ]
    },
    {
     "name": "stdout",
     "output_type": "stream",
     "text": [
      "3\n",
      "------------------------------------------\n",
      "文章總字數: 236\n",
      "我 13\n"
     ]
    }
   ],
   "source": [
    "word = input()\n",
    "print(\"你用了 %d 個文字述說內心的想法\"%(len(word)))\n",
    "\n",
    "\n",
    "s = '''\n",
    "好 那今天呢 風光明媚風和日麗\n",
    "因爲我以前在唸書的時候我常常覺得很奇怪就是我到學校然後看他們吃什麼早餐都是吃一份蛋餅配一杯奶茶\n",
    "或是 一個漢堡配一杯奶茶 或是一份蘿蔔糕配一杯奶茶\n",
    "每次吃完都說啊我吃飽了我心裡就想說：「這真的可以吃飽？」因爲你知道我通常早餐我都點3份可能3個 我想說這樣就能吃飽？\n",
    "一定是唬人的嘛我才想到說大家都是要面子的：「沒有沒有 我都帶好幾份去吃」\n",
    "「那是你嘛你不要臉嘛我說正常的」我就想說不行 \n",
    "我們一定要做個企劃 就是有一天要讓自己的胃滿足 \n",
    "大滿足所以今天的企劃就是 早餐吃到飽\n",
    "'''\n",
    "\n",
    "print (\"------------------------------------------\")\n",
    "#請使用者輸入一文字\n",
    "#計算該文字在文章出現次數\n",
    "#列印出現次數\n",
    "string = input()\n",
    "s_sum = s.count(string)\n",
    "print(s_sum)\n",
    "\n",
    "print (\"------------------------------------------\")\n",
    "#把文字中 '。，\\n；：？「」'的標點符號去除\n",
    "for i in '。，\\n；：？「」':\n",
    "    s = s.replace(i,'')\n",
    "#目前已知出現最多次的字的次數\n",
    "#目前已知出現最多次的字\n",
    "\n",
    "maxstr = ''\n",
    "maxcount = 0\n",
    "\n",
    "print('文章總字數:',len(s))\n",
    "\n",
    "for astr in s:\n",
    "    #print(astr)\n",
    "    act=s.count(astr)\n",
    "    # 如果 現在這個字出現的次數(act) 大於 目前已知出現最多次字的次數\n",
    "        #就讓 現在這個字出現的次數 成為 目前已知出現最多次的字的次數\n",
    "        #還要記錄 現在這個字(astr) 到 目前已知出現最多次的字\n",
    "    if act > maxcount:\n",
    "        maxcount = act\n",
    "        maxchar = astr\n",
    "\n",
    "else:\n",
    "    print(maxchar,maxcount)"
   ]
  },
  {
   "cell_type": "markdown",
   "metadata": {},
   "source": [
    "### 05 - Email 域名判斷器（Email slicer）\n",
    "#### 請用戶輸入 Email 地址，然後判斷它是自定義域名還是熱門域名。\n",
    "\n",
    "> 題目：<br>\n",
    "輸入(Input):shelly200318@hotmail.com.tw  <br>\n",
    "輸出(Output):Your username is 'shelly200318' and your domain name is 'hotmail.com.tw' <br>\n",
    "\n",
    "\n",
    "* 進階：把常用的信箱存成字典，加入判斷是否為\n",
    ">輸入(Input):mary.jane@gmail.com  <br>\n",
    "輸出(Output):這是註冊在 Google 之下的 Email 地址 <br>\n",
    "輸入(Input):matt.pan@myfantasy.com  <br>\n",
    "輸出(Output):這是在 myfantasy 之下自定義域\n",
    "\n"
   ]
  },
  {
   "cell_type": "code",
   "execution_count": 33,
   "metadata": {},
   "outputs": [
    {
     "name": "stdin",
     "output_type": "stream",
     "text": [
      "What is your email address?:  r12521524@ntu.edu.tw\n"
     ]
    },
    {
     "name": "stdout",
     "output_type": "stream",
     "text": [
      "Your username is 'r12521524' and your domain name is 'ntu.edu.tw'\n",
      "這是註冊在 臺大 之下的 Email 地址\n"
     ]
    }
   ],
   "source": [
    "# Get user email address\n",
    "email = input(\"What is your email address?: \").strip()\n",
    "\n",
    "# Slice out the user name\n",
    "user_name = email[0:email.index('@')]\n",
    "\n",
    "# Slice the domain name\n",
    "domain_name = email[email.index('@')+1:len(email)]\n",
    "\n",
    "# Format message\n",
    "output = \"Your username is '{}' and your domain name is '{}'\".format(user_name,domain_name)\n",
    "\n",
    "# Display output message\n",
    "print(output)\n",
    "\n",
    "\n",
    "domain = {'gmail.com':'Google','yahoo.com.tw':'Yahoo','ntu.edu.tw':'臺大','hotmail.com.tw':'Hotmail','hotmail.com':'Hotmail'}\n",
    "if domain_name in domain:\n",
    "    output = \"這是註冊在 {} 之下的 Email 地址\".format(domain[domain_name])\n",
    "else:\n",
    "    \n",
    "    output = \"這是在 {} 之下自定義域\".format(domain_name[0:domain_name.index('.')])\n",
    "print(output)"
   ]
  },
  {
   "cell_type": "code",
   "execution_count": 31,
   "metadata": {},
   "outputs": [
    {
     "name": "stdin",
     "output_type": "stream",
     "text": [
      "What is your email address?:  matt.pan@myfantasy.com\n"
     ]
    },
    {
     "name": "stdout",
     "output_type": "stream",
     "text": [
      "Your username is 'matt.pan' and your domain name is 'myfantasy.com'\n",
      "這是在 myfantasy 之下自定義域\n"
     ]
    }
   ],
   "source": [
    "# Get user email address\n",
    "email = input(\"What is your email address?: \").strip()\n",
    "\n",
    "# Slice out the user name\n",
    "user_name = email[0:email.index('@')]\n",
    "\n",
    "# Slice the domain name\n",
    "domain_name = email[email.index('@')+1:len(email)]\n",
    "\n",
    "# Format message\n",
    "output = \"Your username is '{}' and your domain name is '{}'\".format(user_name,domain_name)\n",
    "\n",
    "# Display output message\n",
    "print(output)\n",
    "\n",
    "\n",
    "domain = {'gmail.com':'Google','yahoo.com.tw':'Yahoo','ntu.edu.tw':'臺大','hotmail.com.tw':'Hotmail','hotmail.com':'Hotmail'}\n",
    "if domain_name in domain:\n",
    "    output = \"這是註冊在 {} 之下的 Email 地址\".format(domain[domain_name])\n",
    "else:\n",
    "    \n",
    "    output = \"這是在 {} 之下自定義域\".format(domain_name[0:domain_name.index('.')])\n",
    "print(output)"
   ]
  },
  {
   "cell_type": "markdown",
   "metadata": {},
   "source": [
    "### 06 - 及格名單（Pass list）\n",
    "#### 請使用集合功能來完成各科級名單的判斷\n",
    "```\n",
    "米花市帝丹小學一年级B班正舉辦期中考試\n",
    "數學及格的有：柯南、灰原、步美、美環、光彦\n",
    "英文及格的有：柯南、灰原、丸尾、野口、步美\n",
    "以上已列出全班所有人\n",
    "```\n",
    "\n",
    ">請分別列出<br>\n",
    "數學及格但英文不及格的同學名單<br>\n",
    "數學不及格但英文及格的同學名單<br>\n",
    "兩者皆及格名單<br>\n",
    "* Hint:差集(減法)、交集\n"
   ]
  },
  {
   "cell_type": "code",
   "execution_count": 43,
   "metadata": {},
   "outputs": [
    {
     "name": "stdout",
     "output_type": "stream",
     "text": [
      "兩者皆及格名單: ['柯南', '步美', '灰原']\n",
      "數學及格但英文不及格: ['光彦', '美環']\n",
      "數學不及格但英文及格: ['丸尾', '野口']\n",
      "及格一科以上的人: ['丸尾', '光彦', '柯南', '步美', '灰原', '美環', '野口']\n"
     ]
    }
   ],
   "source": [
    "m={'柯南','灰原','步美','美環','光彦'}\n",
    "e={'柯南','灰原','丸尾','野口','步美'}\n",
    "\n",
    "a=m.intersection(e)\n",
    "a1=list(a)\n",
    "a1.sort()\n",
    "print('兩者皆及格名單:',a1)\n",
    "\n",
    "b=m.difference(a)\n",
    "b1=list(b)\n",
    "b1.sort()\n",
    "print('數學及格但英文不及格:',b1)\n",
    "\n",
    "c=e.difference(a)\n",
    "c1=list(c)\n",
    "c1.sort()\n",
    "print('數學不及格但英文及格:',c1)\n",
    "\n",
    "d=m.union(e)\n",
    "d1=list(d)\n",
    "d1.sort()\n",
    "print('及格一科以上的人:',d1)"
   ]
  },
  {
   "cell_type": "markdown",
   "metadata": {},
   "source": [
    "### 07 - 查詢路徑下所有檔案\n",
    "#### 請使用者輸入路徑，自動抓取路徑下所有檔案名稱\n",
    "\n",
    ">輸入(Input):data\\testfile 或 D:\\code\\ML_202105\\data\\testfile  <br>\n",
    "輸出(Output):\n",
    "```\n",
    "I'm a directory: file1\n",
    "I'm a directory: file2\n",
    "I'm a File: hw_07945001.txt\n",
    "I'm a File: hw_079450010.doc\n",
    "I'm a File: hw_07945002.txt\n",
    "I'm a File: hw_07945003.txt\n",
    "I'm a File: hw_07945004.txt\n",
    "I'm a File: hw_07945005.txt\n",
    "I'm a File: hw_07945007.txt\n",
    "I'm a File: hw_07945008.txt\n",
    "I'm a File: hw_07945009.txt\n",
    "```\n",
    "\n",
    "* 進階: 把file的學號抓出來，另存成一個新的csv檔"
   ]
  },
  {
   "cell_type": "code",
   "execution_count": 55,
   "metadata": {},
   "outputs": [
    {
     "name": "stdin",
     "output_type": "stream",
     "text": [
      " C:\\ML\\IMLP433\\Unit01\\testfile\n"
     ]
    },
    {
     "name": "stdout",
     "output_type": "stream",
     "text": [
      "I'm a directory: file1\n",
      "I'm a directory: file2\n",
      "I'm a File: hw_07945001.txt\n",
      "I'm a File: hw_079450010.doc\n",
      "I'm a File: hw_07945002.txt\n",
      "I'm a File: hw_07945003.txt\n",
      "I'm a File: hw_07945004.txt\n",
      "I'm a File: hw_07945005.txt\n",
      "I'm a File: hw_07945007.txt\n",
      "I'm a File: hw_07945008.txt\n",
      "I'm a File: hw_07945009.txt\n",
      "['07945001', '079450010', '07945002', '07945003', '07945004', '07945005', '07945007', '07945008', '07945009']\n"
     ]
    }
   ],
   "source": [
    "import os\n",
    "\n",
    "# 請使用者輸入或指定要查詢的路徑\n",
    "yourPath = input()\n",
    "# 列出指定路徑底下所有檔案(包含資料夾)\n",
    "allFileList = os.listdir(yourPath)\n",
    "ID =[]\n",
    "\n",
    "# 逐一查詢檔案清單\n",
    "for file in allFileList:\n",
    "#   這邊也可以視情況，做檔案的操作(複製、讀取...等)\n",
    "#   使用isdir檢查是否為目錄\n",
    "#   使用join的方式把路徑與檔案名稱串起來(等同filePath+fileName)\n",
    "    if os.path.isdir(os.path.join(yourPath,file)):\n",
    "        print(\"I'm a directory: \" + file)\n",
    "    #   使用isfile判斷是否為檔案\n",
    "    elif os.path.isfile(os.path.join(yourPath,file)):\n",
    "        print(\"I'm a File: \" + file)\n",
    "        ID.append(file[file.index('_')+1:file.index('.')])\n",
    "\n",
    "print(ID)"
   ]
  },
  {
   "cell_type": "markdown",
   "metadata": {},
   "source": [
    "### 08 - 資料夾管理(shutil)\n",
    "#### 說明 ####\n",
    "\n",
    "```\n",
    "在目前所在的目錄下建立一files資料夾\n",
    "\n",
    "令使用者輸入一數字N，並在files資料夾中建立f1, f2… fN等N個資料夾後列出files的資料夾內容\n",
    "\n",
    "將files資料夾裡的f1資料夾重新命名成folder1後再列出files的資料夾內容\n",
    "\n",
    "移除files資料夾中的folder1後再列出files的資料夾內容\n",
    "\n",
    "最後移除files資料夾\n",
    "※須先退出files資料夾(os.chdir(../)) ![image.png](attachment:image.png)\n",
    "```\n"
   ]
  },
  {
   "cell_type": "code",
   "execution_count": 59,
   "metadata": {},
   "outputs": [
    {
     "name": "stdin",
     "output_type": "stream",
     "text": [
      " 5\n"
     ]
    },
    {
     "name": "stdout",
     "output_type": "stream",
     "text": [
      "['f1', 'f2', 'f3', 'f4', 'f5']\n"
     ]
    },
    {
     "name": "stdin",
     "output_type": "stream",
     "text": [
      "Enter \n"
     ]
    },
    {
     "name": "stdout",
     "output_type": "stream",
     "text": [
      "['f2', 'f3', 'f4', 'f5', 'folder1']\n"
     ]
    },
    {
     "name": "stdin",
     "output_type": "stream",
     "text": [
      "Enter \n"
     ]
    },
    {
     "name": "stdout",
     "output_type": "stream",
     "text": [
      "['f2', 'f3', 'f4', 'f5']\n"
     ]
    },
    {
     "name": "stdin",
     "output_type": "stream",
     "text": [
      "Enter \n"
     ]
    }
   ],
   "source": [
    "import os\n",
    "import shutil\n",
    "\n",
    "if os.path.exists('files'):\n",
    "    shutil.rmtree('files')\n",
    "os.mkdir('files')\n",
    "\n",
    "n = int(input())\n",
    "\n",
    "os.chdir('files')\n",
    "for i in range(1,n+1):\n",
    "    os.mkdir('f'+str(i))\n",
    "print(sorted(os.listdir()))\n",
    "a = input('Enter')\n",
    "\n",
    "os.rename('f1','folder1')\n",
    "print(sorted(os.listdir()))\n",
    "a = input('Enter')\n",
    "\n",
    "os.rmdir('folder1')\n",
    "print(sorted(os.listdir()))\n",
    "a = input('Enter')\n",
    "\n",
    "os.chdir('../')\n",
    "shutil.rmtree('files')"
   ]
  },
  {
   "cell_type": "markdown",
   "metadata": {},
   "source": [
    "### 09 - 回文判斷（Is a palindrome）\n",
    "#### 請使用者輸入單字，判斷它是否為回文，也就是該單字前後對稱，例如 madam，從前讀到後或是從後讀到前的順序都是 madam。\n",
    "\n",
    "> 題目：<br>\n",
    "輸入(Input): 雨 滋 春 樹 碧 連 天  天 連 碧 樹 春 滋 雨 <br>\n",
    "輸出(Output):The text you have entered is a palindrome!<br>\n",
    "輸入(Input): 資工訓練班 <br>\n",
    "輸出(Output):The text you have entered is not a palindrome.\n"
   ]
  },
  {
   "cell_type": "code",
   "execution_count": 77,
   "metadata": {},
   "outputs": [
    {
     "name": "stdout",
     "output_type": "stream",
     "text": [
      "\n",
      "Palindrome checker\n"
     ]
    },
    {
     "name": "stdin",
     "output_type": "stream",
     "text": [
      "\n",
      "Please enter a word, phrase, or a sentence \n",
      "to check if it is a palindrome:  雨 滋 春 樹 碧 連 天 天 連 碧 樹 春 滋 雨\n"
     ]
    },
    {
     "name": "stdout",
     "output_type": "stream",
     "text": [
      "The text you have entered is a palindrome!\n"
     ]
    }
   ],
   "source": [
    "def convertInputString():\n",
    "    #請使用者輸入一串字串，先轉換字串為統一小寫\n",
    "    rawInput = input(\"\\nPlease enter a word, phrase, or a sentence \\nto check if it is a palindrome: \") \n",
    "    rawString = rawInput.lower()\n",
    "    rawList = list(rawString)\n",
    "    return rawList\n",
    "\n",
    "def stripAnalphabetics(dirtyList): \n",
    "    analphabeticList = [\" \", \"-\", \".\", \",\", \":\", \";\", \"!\", \"?\", \"'\", \"\\\"\"] \n",
    "    #去除相關標點符號\n",
    "    for character in analphabeticList:\n",
    "        if character in dirtyList:\n",
    "            dirtyList.remove(character)\n",
    "            return stripAnalphabetics(dirtyList)\n",
    "        return dirtyList\n",
    "\n",
    "def runPalindromeCheck(straightList):\n",
    "    reversedList = straightList[::-1] \n",
    "    if reversedList == straightList: \n",
    "        return \"The text you have entered is a palindrome!\" \n",
    "    else: \n",
    "        return \"The text you have entered is not a palindrome.\" \n",
    "\n",
    "def main(): \n",
    "    print(\"\\nPalindrome checker\") \n",
    "    originalList = convertInputString()\n",
    "    originalList = stripAnalphabetics(originalList)\n",
    "    palindromeCheck = runPalindromeCheck(originalList)\n",
    "    print(palindromeCheck)\n",
    "\n",
    "main() "
   ]
  },
  {
   "cell_type": "markdown",
   "metadata": {},
   "source": [
    "### 10 - 總成績計算\n",
    "#### 說明 ####\n",
    "\n",
    "請讀取 `data/english_list.csv`與`data/math_list.csv`檔案(`utf-8`)後，將每位同學的英文與數學成績加總起來，並將檔案寫入至 `./Score.csv`中，編碼成`utf-8`<br>\n",
    "最後列印出每位學生姓名與加總後的分數<br>\n",
    "<a href=\"data\\english_list.csv\">英文成績下載</a><br>\n",
    "<a href=\"data\\math_list.csv\">數學成績下載</a><br>\n",
    "\n",
    "#### Input Format ####\n",
    "\n",
    "<br>\n",
    "csv資料(英文成績)<br>\n",
    "csv資料(數學成績)<br>\n",
    "<br>\n",
    "\n",
    "#### Output Format ####\n",
    "\n",
    "<br>\n",
    "\n",
    "![](data\\05.JPG)<br>\n",
    "<br>\n",
    "<br>\n",
    "(圖片參考用 以文字敘述為準)<br>\n",
    "\n",
    "\n",
    "\n",
    "\n",
    "#### Sample Input 1####\n",
    "\n",
    "\n",
    "\n",
    "```\n",
    "無標準輸入，只有檔案輸入\n",
    "```\n",
    "\n",
    "\n",
    "\n",
    "#### Sample Output 1####\n",
    "\n",
    "\n",
    "```\n",
    "廖冠霖 142\n",
    "王力中 124\n",
    "張平舜 108\n",
    ".\n",
    ".\n",
    ".\n",
    ".\n",
    ".\n",
    "陳姿茜 77\n",
    "涂珮瑜 134\n",
    "夏明哲 111\n",
    "\n",
    "```\n",
    "\n",
    "\n",
    "#### Hint ####\n",
    "\n",
    "\n",
    "\n",
    "```\n",
    "None\n",
    "```\n"
   ]
  },
  {
   "cell_type": "code",
   "execution_count": 93,
   "metadata": {},
   "outputs": [],
   "source": [
    "fin_E = open('data/english_list.csv',\"r\",encoding='UTF-8')"
   ]
  },
  {
   "cell_type": "code",
   "execution_count": 97,
   "metadata": {},
   "outputs": [
    {
     "name": "stdout",
     "output_type": "stream",
     "text": [
      "廖冠霖 142\n",
      "王力中 124\n",
      "張平舜 108\n",
      "洪婷婷 128\n",
      "林士雨 86\n",
      "陳宗翰 28\n",
      "洪偉珊 134\n",
      "顏又芹 32\n",
      "王亦夏 55\n",
      "姚成華 77\n",
      "潘詠月 144\n",
      "倪浩迪 163\n",
      "郭心怡 109\n",
      "黃政聖 99\n",
      "顏曉雲 135\n",
      "彭曉雯 77\n",
      "葉健仁 117\n",
      "賴軒年 167\n",
      "韓致遠 52\n",
      "陳常芝 80\n",
      "黃佩樺 108\n",
      "林詩虹 178\n",
      "黃心卿 96\n",
      "郭奕全 101\n",
      "游子揚 127\n",
      "杜茜行 107\n",
      "李美一 64\n",
      "陳姿茜 77\n",
      "涂珮瑜 134\n",
      "夏明哲 111\n"
     ]
    },
    {
     "data": {
      "text/plain": [
       "'\\nline=\\'\\'\\nfout = open(\"Score.csv\",\"r\")\\nfor i in (len(name)):\\n    print()\\n'"
      ]
     },
     "execution_count": 97,
     "metadata": {},
     "output_type": "execute_result"
    }
   ],
   "source": [
    "fin_E = open('data/english_list.csv',\"r\",encoding='UTF-8')\n",
    "fin_M = open('data/math_list.csv',\"r\",encoding='UTF-8')\n",
    "lisE=[]\n",
    "lisM=[]\n",
    "name=[]\n",
    "for line in fin_E.readlines():\n",
    "    line = line.strip().split(\",\")\n",
    "    lisE.append(line[1])\n",
    "    name.append(line[0])\n",
    "    \n",
    "for line in fin_M.readlines():\n",
    "    line = line.strip().split(\",\")\n",
    "    lisM.append(line[1])\n",
    "    \n",
    "score=[]\n",
    "fout = open(\"data/Score.csv\",\"w\")\n",
    "line=''\n",
    "for i in range(1,len(lisE)):\n",
    "    score.append(int(lisE[i])+int(lisM[i]))\n",
    "    list1 = [name[i],str(score[i-1]),\"\\n\"]\n",
    "    print(name[i],str(score[i-1]))\n",
    "    \n",
    "    line = \",\".join(list1)\n",
    "    fout.write(line)\n",
    "fin_E.close()\n",
    "fin_M.close()\n",
    "fout.close()\n",
    "'''\n",
    "line=''\n",
    "fout = open(\"Score.csv\",\"r\")\n",
    "for i in (len(name)):\n",
    "    print()\n",
    "'''\n"
   ]
  },
  {
   "cell_type": "code",
   "execution_count": null,
   "metadata": {},
   "outputs": [],
   "source": []
  }
 ],
 "metadata": {
  "kernelspec": {
   "display_name": "Python [conda env:base] *",
   "language": "python",
   "name": "conda-base-py"
  },
  "language_info": {
   "codemirror_mode": {
    "name": "ipython",
    "version": 3
   },
   "file_extension": ".py",
   "mimetype": "text/x-python",
   "name": "python",
   "nbconvert_exporter": "python",
   "pygments_lexer": "ipython3",
   "version": "3.12.7"
  }
 },
 "nbformat": 4,
 "nbformat_minor": 4
}
